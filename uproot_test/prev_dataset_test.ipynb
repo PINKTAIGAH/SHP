{
 "cells": [
  {
   "cell_type": "code",
   "execution_count": 2,
   "metadata": {},
   "outputs": [],
   "source": [
    "import numpy as np\n",
    "import awkward as ak\n",
    "import uproot\n",
    "import matplotlib.pyplot as plt"
   ]
  },
  {
   "cell_type": "code",
   "execution_count": 5,
   "metadata": {},
   "outputs": [],
   "source": [
    "root_file_dir= '~/Desktop/ROOT_files/'\n",
    "file= uproot.open(root_file_dir + 'reco2-1cf8343b-b547-4ec5-9de8-da9ee53d258d.root:Events')"
   ]
  },
  {
   "cell_type": "code",
   "execution_count": 22,
   "metadata": {},
   "outputs": [
    {
     "data": {
      "text/plain": [
       "[('anab::Calorimetrys_caloskimCalorimetry__Reco2.',\n",
       "  <TBranchElement 'anab::Calorimetrys_caloskimCalorimetry__Reco2.' (3 subbranches) at 0x7f992c120fd0>),\n",
       " ('anab::Calorimetrys_caloskimCalorimetry__Reco2./anab::Calorimetrys_caloskimCalorimetry__Reco2.present',\n",
       "  <TBranchElement 'anab::Calorimetrys_caloskimCalorimetry__Reco2.present' at 0x7f992c12a4f0>),\n",
       " ('anab::Calorimetrys_caloskimCalorimetry__Reco2./anab::Calorimetrys_caloskimCalorimetry__Reco2.rangeSetID',\n",
       "  <TBranchElement 'anab::Calorimetrys_caloskimCalorimetry__Reco2.rangeSetID' at 0x7f992c12aee0>),\n",
       " ('anab::Calorimetrys_caloskimCalorimetry__Reco2./anab::Calorimetrys_caloskimCalorimetry__Reco2.obj',\n",
       "  <TBranchElement 'anab::Calorimetrys_caloskimCalorimetry__Reco2.obj' (13 subbranches) at 0x7f992c12e8e0>),\n",
       " ('anab::Calorimetrys_caloskimCalorimetry__Reco2./anab::Calorimetrys_caloskimCalorimetry__Reco2.obj/anab::Calorimetrys_caloskimCalorimetry__Reco2.obj.fKineticEnergy',\n",
       "  <TBranchElement 'anab::Calorimetrys_caloskimCalorimetry__Reco2.obj.fKineticEnergy' at 0x7f992c12edf0>),\n",
       " ('anab::Calorimetrys_caloskimCalorimetry__Reco2./anab::Calorimetrys_caloskimCalorimetry__Reco2.obj/anab::Calorimetrys_caloskimCalorimetry__Reco2.obj.fdEdx',\n",
       "  <TBranchElement 'anab::Calorimetrys_caloskimCalorimetry__Reco2.obj.fdEdx' at 0x7f992c133a00>),\n",
       " ('anab::Calorimetrys_caloskimCalorimetry__Reco2./anab::Calorimetrys_caloskimCalorimetry__Reco2.obj/anab::Calorimetrys_caloskimCalorimetry__Reco2.obj.fdQdx',\n",
       "  <TBranchElement 'anab::Calorimetrys_caloskimCalorimetry__Reco2.obj.fdQdx' at 0x7f992c13a3a0>),\n",
       " ('anab::Calorimetrys_caloskimCalorimetry__Reco2./anab::Calorimetrys_caloskimCalorimetry__Reco2.obj/anab::Calorimetrys_caloskimCalorimetry__Reco2.obj.fResidualRange',\n",
       "  <TBranchElement 'anab::Calorimetrys_caloskimCalorimetry__Reco2.obj.fResidualRange' at 0x7f992c13ad00>),\n",
       " ('anab::Calorimetrys_caloskimCalorimetry__Reco2./anab::Calorimetrys_caloskimCalorimetry__Reco2.obj/anab::Calorimetrys_caloskimCalorimetry__Reco2.obj.fDeadWireResR',\n",
       "  <TBranchElement 'anab::Calorimetrys_caloskimCalorimetry__Reco2.obj.fDeadWireResR' at 0x7f992c0c06a0>),\n",
       " ('anab::Calorimetrys_caloskimCalorimetry__Reco2./anab::Calorimetrys_caloskimCalorimetry__Reco2.obj/anab::Calorimetrys_caloskimCalorimetry__Reco2.obj.fRange',\n",
       "  <TBranchElement 'anab::Calorimetrys_caloskimCalorimetry__Reco2.obj.fRange' at 0x7f992c0c7040>),\n",
       " ('anab::Calorimetrys_caloskimCalorimetry__Reco2./anab::Calorimetrys_caloskimCalorimetry__Reco2.obj/anab::Calorimetrys_caloskimCalorimetry__Reco2.obj.fTrkPitch',\n",
       "  <TBranchElement 'anab::Calorimetrys_caloskimCalorimetry__Reco2.obj.fTrkPitch' at 0x7f992c0c79a0>),\n",
       " ('anab::Calorimetrys_caloskimCalorimetry__Reco2./anab::Calorimetrys_caloskimCalorimetry__Reco2.obj/anab::Calorimetrys_caloskimCalorimetry__Reco2.obj.fXYZ',\n",
       "  <TBranchElement 'anab::Calorimetrys_caloskimCalorimetry__Reco2.obj.fXYZ' at 0x7f992c0cc340>),\n",
       " ('anab::Calorimetrys_caloskimCalorimetry__Reco2./anab::Calorimetrys_caloskimCalorimetry__Reco2.obj/anab::Calorimetrys_caloskimCalorimetry__Reco2.obj.fTpIndices',\n",
       "  <TBranchElement 'anab::Calorimetrys_caloskimCalorimetry__Reco2.obj.fTpIndices' at 0x7f992c0ccca0>),\n",
       " ('anab::Calorimetrys_caloskimCalorimetry__Reco2./anab::Calorimetrys_caloskimCalorimetry__Reco2.obj/anab::Calorimetrys_caloskimCalorimetry__Reco2.obj.fPlaneID.isValid',\n",
       "  <TBranchElement 'anab::Calorimetrys_caloskimCalorimetry__Reco2.obj.fPlaneID.isValid' at 0x7f992c0d2640>),\n",
       " ('anab::Calorimetrys_caloskimCalorimetry__Reco2./anab::Calorimetrys_caloskimCalorimetry__Reco2.obj/anab::Calorimetrys_caloskimCalorimetry__Reco2.obj.fPlaneID.Cryostat',\n",
       "  <TBranchElement 'anab::Calorimetrys_caloskimCalorimetry__Reco2.obj.fPlaneID.Cryostat' at 0x7f992c0d2fa0>),\n",
       " ('anab::Calorimetrys_caloskimCalorimetry__Reco2./anab::Calorimetrys_caloskimCalorimetry__Reco2.obj/anab::Calorimetrys_caloskimCalorimetry__Reco2.obj.fPlaneID.TPC',\n",
       "  <TBranchElement 'anab::Calorimetrys_caloskimCalorimetry__Reco2.obj.fPlaneID.TPC' at 0x7f992c0d9940>),\n",
       " ('anab::Calorimetrys_caloskimCalorimetry__Reco2./anab::Calorimetrys_caloskimCalorimetry__Reco2.obj/anab::Calorimetrys_caloskimCalorimetry__Reco2.obj.fPlaneID.Plane',\n",
       "  <TBranchElement 'anab::Calorimetrys_caloskimCalorimetry__Reco2.obj.fPlaneID.Plane' at 0x7f992c0de2e0>),\n",
       " ('anab::Calorimetrys_pandoraSCECalo__Reco2.',\n",
       "  <TBranchElement 'anab::Calorimetrys_pandoraSCECalo__Reco2.' (3 subbranches) at 0x7f992b93c400>),\n",
       " ('anab::Calorimetrys_pandoraSCECalo__Reco2./anab::Calorimetrys_pandoraSCECalo__Reco2.present',\n",
       "  <TBranchElement 'anab::Calorimetrys_pandoraSCECalo__Reco2.present' at 0x7f992b93c8e0>),\n",
       " ('anab::Calorimetrys_pandoraSCECalo__Reco2./anab::Calorimetrys_pandoraSCECalo__Reco2.rangeSetID',\n",
       "  <TBranchElement 'anab::Calorimetrys_pandoraSCECalo__Reco2.rangeSetID' at 0x7f992b8c2310>),\n",
       " ('anab::Calorimetrys_pandoraSCECalo__Reco2./anab::Calorimetrys_pandoraSCECalo__Reco2.obj',\n",
       "  <TBranchElement 'anab::Calorimetrys_pandoraSCECalo__Reco2.obj' (13 subbranches) at 0x7f992b8c2cd0>),\n",
       " ('anab::Calorimetrys_pandoraSCECalo__Reco2./anab::Calorimetrys_pandoraSCECalo__Reco2.obj/anab::Calorimetrys_pandoraSCECalo__Reco2.obj.fKineticEnergy',\n",
       "  <TBranchElement 'anab::Calorimetrys_pandoraSCECalo__Reco2.obj.fKineticEnergy' at 0x7f992b8c9220>),\n",
       " ('anab::Calorimetrys_pandoraSCECalo__Reco2./anab::Calorimetrys_pandoraSCECalo__Reco2.obj/anab::Calorimetrys_pandoraSCECalo__Reco2.obj.fdEdx',\n",
       "  <TBranchElement 'anab::Calorimetrys_pandoraSCECalo__Reco2.obj.fdEdx' at 0x7f992b8c9df0>),\n",
       " ('anab::Calorimetrys_pandoraSCECalo__Reco2./anab::Calorimetrys_pandoraSCECalo__Reco2.obj/anab::Calorimetrys_pandoraSCECalo__Reco2.obj.fdQdx',\n",
       "  <TBranchElement 'anab::Calorimetrys_pandoraSCECalo__Reco2.obj.fdQdx' at 0x7f992b8cf790>),\n",
       " ('anab::Calorimetrys_pandoraSCECalo__Reco2./anab::Calorimetrys_pandoraSCECalo__Reco2.obj/anab::Calorimetrys_pandoraSCECalo__Reco2.obj.fResidualRange',\n",
       "  <TBranchElement 'anab::Calorimetrys_pandoraSCECalo__Reco2.obj.fResidualRange' at 0x7f992b8d5130>),\n",
       " ('anab::Calorimetrys_pandoraSCECalo__Reco2./anab::Calorimetrys_pandoraSCECalo__Reco2.obj/anab::Calorimetrys_pandoraSCECalo__Reco2.obj.fDeadWireResR',\n",
       "  <TBranchElement 'anab::Calorimetrys_pandoraSCECalo__Reco2.obj.fDeadWireResR' at 0x7f992b8d5a90>),\n",
       " ('anab::Calorimetrys_pandoraSCECalo__Reco2./anab::Calorimetrys_pandoraSCECalo__Reco2.obj/anab::Calorimetrys_pandoraSCECalo__Reco2.obj.fRange',\n",
       "  <TBranchElement 'anab::Calorimetrys_pandoraSCECalo__Reco2.obj.fRange' at 0x7f992b8db430>),\n",
       " ('anab::Calorimetrys_pandoraSCECalo__Reco2./anab::Calorimetrys_pandoraSCECalo__Reco2.obj/anab::Calorimetrys_pandoraSCECalo__Reco2.obj.fTrkPitch',\n",
       "  <TBranchElement 'anab::Calorimetrys_pandoraSCECalo__Reco2.obj.fTrkPitch' at 0x7f992b8dbd90>),\n",
       " ('anab::Calorimetrys_pandoraSCECalo__Reco2./anab::Calorimetrys_pandoraSCECalo__Reco2.obj/anab::Calorimetrys_pandoraSCECalo__Reco2.obj.fXYZ',\n",
       "  <TBranchElement 'anab::Calorimetrys_pandoraSCECalo__Reco2.obj.fXYZ' at 0x7f992b8e1730>),\n",
       " ('anab::Calorimetrys_pandoraSCECalo__Reco2./anab::Calorimetrys_pandoraSCECalo__Reco2.obj/anab::Calorimetrys_pandoraSCECalo__Reco2.obj.fTpIndices',\n",
       "  <TBranchElement 'anab::Calorimetrys_pandoraSCECalo__Reco2.obj.fTpIndices' at 0x7f992b8e60d0>),\n",
       " ('anab::Calorimetrys_pandoraSCECalo__Reco2./anab::Calorimetrys_pandoraSCECalo__Reco2.obj/anab::Calorimetrys_pandoraSCECalo__Reco2.obj.fPlaneID.isValid',\n",
       "  <TBranchElement 'anab::Calorimetrys_pandoraSCECalo__Reco2.obj.fPlaneID.isValid' at 0x7f992b8e6a30>),\n",
       " ('anab::Calorimetrys_pandoraSCECalo__Reco2./anab::Calorimetrys_pandoraSCECalo__Reco2.obj/anab::Calorimetrys_pandoraSCECalo__Reco2.obj.fPlaneID.Cryostat',\n",
       "  <TBranchElement 'anab::Calorimetrys_pandoraSCECalo__Reco2.obj.fPlaneID.Cryostat' at 0x7f992b8ed3d0>),\n",
       " ('anab::Calorimetrys_pandoraSCECalo__Reco2./anab::Calorimetrys_pandoraSCECalo__Reco2.obj/anab::Calorimetrys_pandoraSCECalo__Reco2.obj.fPlaneID.TPC',\n",
       "  <TBranchElement 'anab::Calorimetrys_pandoraSCECalo__Reco2.obj.fPlaneID.TPC' at 0x7f992b8edd30>),\n",
       " ('anab::Calorimetrys_pandoraSCECalo__Reco2./anab::Calorimetrys_pandoraSCECalo__Reco2.obj/anab::Calorimetrys_pandoraSCECalo__Reco2.obj.fPlaneID.Plane',\n",
       "  <TBranchElement 'anab::Calorimetrys_pandoraSCECalo__Reco2.obj.fPlaneID.Plane' at 0x7f992b8f26d0>),\n",
       " ('anab::Calorimetrys_pandoraCalo__Reco2.',\n",
       "  <TBranchElement 'anab::Calorimetrys_pandoraCalo__Reco2.' (3 subbranches) at 0x7f992b8688e0>),\n",
       " ('anab::Calorimetrys_pandoraCalo__Reco2./anab::Calorimetrys_pandoraCalo__Reco2.present',\n",
       "  <TBranchElement 'anab::Calorimetrys_pandoraCalo__Reco2.present' at 0x7f992b868dc0>),\n",
       " ('anab::Calorimetrys_pandoraCalo__Reco2./anab::Calorimetrys_pandoraCalo__Reco2.rangeSetID',\n",
       "  <TBranchElement 'anab::Calorimetrys_pandoraCalo__Reco2.rangeSetID' at 0x7f992b86f7f0>),\n",
       " ('anab::Calorimetrys_pandoraCalo__Reco2./anab::Calorimetrys_pandoraCalo__Reco2.obj',\n",
       "  <TBranchElement 'anab::Calorimetrys_pandoraCalo__Reco2.obj' (13 subbranches) at 0x7f992b8751f0>),\n",
       " ('anab::Calorimetrys_pandoraCalo__Reco2./anab::Calorimetrys_pandoraCalo__Reco2.obj/anab::Calorimetrys_pandoraCalo__Reco2.obj.fKineticEnergy',\n",
       "  <TBranchElement 'anab::Calorimetrys_pandoraCalo__Reco2.obj.fKineticEnergy' at 0x7f992b875700>),\n",
       " ('anab::Calorimetrys_pandoraCalo__Reco2./anab::Calorimetrys_pandoraCalo__Reco2.obj/anab::Calorimetrys_pandoraCalo__Reco2.obj.fdEdx',\n",
       "  <TBranchElement 'anab::Calorimetrys_pandoraCalo__Reco2.obj.fdEdx' at 0x7f992b87b310>),\n",
       " ('anab::Calorimetrys_pandoraCalo__Reco2./anab::Calorimetrys_pandoraCalo__Reco2.obj/anab::Calorimetrys_pandoraCalo__Reco2.obj.fdQdx',\n",
       "  <TBranchElement 'anab::Calorimetrys_pandoraCalo__Reco2.obj.fdQdx' at 0x7f992b87bc70>),\n",
       " ('anab::Calorimetrys_pandoraCalo__Reco2./anab::Calorimetrys_pandoraCalo__Reco2.obj/anab::Calorimetrys_pandoraCalo__Reco2.obj.fResidualRange',\n",
       "  <TBranchElement 'anab::Calorimetrys_pandoraCalo__Reco2.obj.fResidualRange' at 0x7f992b802610>),\n",
       " ('anab::Calorimetrys_pandoraCalo__Reco2./anab::Calorimetrys_pandoraCalo__Reco2.obj/anab::Calorimetrys_pandoraCalo__Reco2.obj.fDeadWireResR',\n",
       "  <TBranchElement 'anab::Calorimetrys_pandoraCalo__Reco2.obj.fDeadWireResR' at 0x7f992b802f70>),\n",
       " ('anab::Calorimetrys_pandoraCalo__Reco2./anab::Calorimetrys_pandoraCalo__Reco2.obj/anab::Calorimetrys_pandoraCalo__Reco2.obj.fRange',\n",
       "  <TBranchElement 'anab::Calorimetrys_pandoraCalo__Reco2.obj.fRange' at 0x7f992b808910>),\n",
       " ('anab::Calorimetrys_pandoraCalo__Reco2./anab::Calorimetrys_pandoraCalo__Reco2.obj/anab::Calorimetrys_pandoraCalo__Reco2.obj.fTrkPitch',\n",
       "  <TBranchElement 'anab::Calorimetrys_pandoraCalo__Reco2.obj.fTrkPitch' at 0x7f992b80f2b0>),\n",
       " ('anab::Calorimetrys_pandoraCalo__Reco2./anab::Calorimetrys_pandoraCalo__Reco2.obj/anab::Calorimetrys_pandoraCalo__Reco2.obj.fXYZ',\n",
       "  <TBranchElement 'anab::Calorimetrys_pandoraCalo__Reco2.obj.fXYZ' at 0x7f992b80fc10>),\n",
       " ('anab::Calorimetrys_pandoraCalo__Reco2./anab::Calorimetrys_pandoraCalo__Reco2.obj/anab::Calorimetrys_pandoraCalo__Reco2.obj.fTpIndices',\n",
       "  <TBranchElement 'anab::Calorimetrys_pandoraCalo__Reco2.obj.fTpIndices' at 0x7f992b8145b0>),\n",
       " ('anab::Calorimetrys_pandoraCalo__Reco2./anab::Calorimetrys_pandoraCalo__Reco2.obj/anab::Calorimetrys_pandoraCalo__Reco2.obj.fPlaneID.isValid',\n",
       "  <TBranchElement 'anab::Calorimetrys_pandoraCalo__Reco2.obj.fPlaneID.isValid' at 0x7f992b814f10>),\n",
       " ('anab::Calorimetrys_pandoraCalo__Reco2./anab::Calorimetrys_pandoraCalo__Reco2.obj/anab::Calorimetrys_pandoraCalo__Reco2.obj.fPlaneID.Cryostat',\n",
       "  <TBranchElement 'anab::Calorimetrys_pandoraCalo__Reco2.obj.fPlaneID.Cryostat' at 0x7f992b8198b0>),\n",
       " ('anab::Calorimetrys_pandoraCalo__Reco2./anab::Calorimetrys_pandoraCalo__Reco2.obj/anab::Calorimetrys_pandoraCalo__Reco2.obj.fPlaneID.TPC',\n",
       "  <TBranchElement 'anab::Calorimetrys_pandoraCalo__Reco2.obj.fPlaneID.TPC' at 0x7f992b820250>),\n",
       " ('anab::Calorimetrys_pandoraCalo__Reco2./anab::Calorimetrys_pandoraCalo__Reco2.obj/anab::Calorimetrys_pandoraCalo__Reco2.obj.fPlaneID.Plane',\n",
       "  <TBranchElement 'anab::Calorimetrys_pandoraCalo__Reco2.obj.fPlaneID.Plane' at 0x7f992b820bb0>)]"
      ]
     },
     "execution_count": 22,
     "metadata": {},
     "output_type": "execute_result"
    }
   ],
   "source": [
    "file.items(filter_name='*anab::Calorimetrys*')"
   ]
  },
  {
   "cell_type": "code",
   "execution_count": 8,
   "metadata": {},
   "outputs": [
    {
     "data": {
      "text/html": [
       "<pre>[[[0.663, 2.11, 2.05, 1.53, 1.61, 1.74, ..., 1.92, 1.52, 1.77, 1.91, 3], ...],\n",
       " [[0.904, 1.63, 1.57, 1.86, 1.92, 1.77, ..., 2.19, 2.21, 2.1, 2.16, 1.71], ...],\n",
       " [[0.578, 2, 1.64, 1.69, 1.74, 1.51, ..., 4.22, 3.33, 1.88, 1.65, 1.84], ...],\n",
       " [[1.05, 1.85, 2.17, 1.69, 1.72, 1.99, ..., 1.75, 1.69, 1.48, 1.87, 1], ...],\n",
       " [[1.34, 2.87, 1.54, 3.2, 1.66, 1.49, ..., 1.58, 1.98, 4.57, 2.25, 1.27], ...],\n",
       " [[1.37, 1.77, 1.88, 1.77, 1.77, 1.7, ..., 1.45, 1.58, 1.9, 1.57, 1.67], ...],\n",
       " [[0.586, 2.46, 2.27, 2.1, 1.97, 2.14, ..., 1.65, 1.57, 2.05, 2.48, 4.32], ...],\n",
       " [[0.443, 1.87, 1.85, 1.94, 2.13, ..., 3.63, 3.31, 3.82, 1.97, 1.58], ...],\n",
       " [[0.62, 2.19, 7.21, 4.53, 2.41, 1.74, ..., 1.7, 2.57, 1.92, 1.63, 1.5], ...],\n",
       " [[0.869, 2.37, 5.01, 2.18, 3.19, 2.16, ..., 1.7, 1.83, 1.74, 1.65, 1.06], ...],\n",
       " ...,\n",
       " [[7.11, 5.45, 4.97, 4.66, 3.55, ..., 1.66, 8.13, 2.48, 2.63, 0.596], ...],\n",
       " [[1.54, 4.96, 2.11, 1.9, 1.78, 1.84, ..., 1.86, 1.8, 1.94, 2.14, 0.713], ...],\n",
       " [[1.44, 1.77, 1.69, 1.66, 1.77, 1.83, ..., 2.05, 1.61, 1.55, 2.4, 1.45], ...],\n",
       " [[0.699, 1.61, 1.97, 2.09, 1.66, ..., 1.91, 1.75, 1.74, 1.58, 0.707], ...],\n",
       " [[0.612, 0.737, 1.08, 1.27, 1.57, ..., 1.62, 1.56, 1.91, 2.49, 1.53], ...],\n",
       " [[1.6, 4.07, 6.56, 6.8, 4.33, 4.2, ..., 1.59, 1.88, 2.52, 2.05, 1.48], ...],\n",
       " [[0.962, 1.35, 1.65, 1.88, 1.98, ..., 1.22, 2.52, 0.675, 0.486, 0.812], ...],\n",
       " [[0.489, 1.4, 1.87, 1.9, 1.99, 1.89, ..., 2.11, 1.72, 3.44, 2.68, 0.844], ...],\n",
       " [[0.499, 2.14, 2.04, 1.67, 1.7, 1.8, ..., 2.06, 2.16, 1.82, 2.13, 4.61], ...]]\n",
       "--------------------------------------------------------------------------------\n",
       "type: 42 * var * var * float32</pre>"
      ],
      "text/plain": [
       "<Array [[[0.663, 2.11, ..., 3], ...], ...] type='42 * var * var * float32'>"
      ]
     },
     "execution_count": 8,
     "metadata": {},
     "output_type": "execute_result"
    }
   ],
   "source": [
    "file['anab::Calorimetrys_pandoraCalo__Reco2./anab::Calorimetrys_pandoraCalo__Reco2.obj/anab::Calorimetrys_pandoraCalo__Reco2.obj.fdEdx'].array()\n"
   ]
  },
  {
   "cell_type": "code",
   "execution_count": 27,
   "metadata": {},
   "outputs": [
    {
     "name": "stdout",
     "output_type": "stream",
     "text": [
      "<TBranchElement 'recob::Tracks_pandoraSCEShower__Reco2.obj.fTraj.fPositions' at 0x7f992b8a52b0>\n"
     ]
    }
   ],
   "source": [
    "print(file['recob::Tracks_pandoraSCEShower__Reco2./recob::Tracks_pandoraSCEShower__Reco2.obj/recob::Tracks_pandoraSCEShower__Reco2.obj.fTraj.fPositions'])"
   ]
  },
  {
   "cell_type": "code",
   "execution_count": null,
   "metadata": {},
   "outputs": [],
   "source": []
  }
 ],
 "metadata": {
  "kernelspec": {
   "display_name": "base",
   "language": "python",
   "name": "python3"
  },
  "language_info": {
   "codemirror_mode": {
    "name": "ipython",
    "version": 3
   },
   "file_extension": ".py",
   "mimetype": "text/x-python",
   "name": "python",
   "nbconvert_exporter": "python",
   "pygments_lexer": "ipython3",
   "version": "3.9.13"
  },
  "orig_nbformat": 4
 },
 "nbformat": 4,
 "nbformat_minor": 2
}
