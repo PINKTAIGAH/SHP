{
 "cells": [
  {
   "cell_type": "code",
   "execution_count": 1,
   "metadata": {},
   "outputs": [],
   "source": [
    "import numpy as np\n",
    "import awkward as ak\n",
    "import uproot\n",
    "import matplotlib.pyplot as plt"
   ]
  },
  {
   "cell_type": "code",
   "execution_count": 5,
   "metadata": {},
   "outputs": [],
   "source": [
    "root_file_dir= '~/Desktop/ROOT_files/'\n",
    "file= uproot.open(root_file_dir + 'flat_caf_0-833995dc-14a2-47e7-9a95-91e25102b7ef.root')"
   ]
  },
  {
   "cell_type": "code",
   "execution_count": 9,
   "metadata": {},
   "outputs": [
    {
     "data": {
      "text/plain": [
       "[('recTree;29', <TTree 'recTree' (1545 branches) at 0x7f9a805162b0>),\n",
       " ('recTree;28', <TTree 'recTree' (1545 branches) at 0x7f9a8040a1f0>),\n",
       " ('TotalPOT;1', <TH1F (version 3) at 0x7f9a80516c10>),\n",
       " ('TotalEvents;1', <TH1F (version 3) at 0x7f9ab81f76a0>),\n",
       " ('metadata;1', <ReadOnlyDirectory '/metadata' at 0x7f9a8040a880>),\n",
       " ('metadata/metatree;1', <TTree 'metatree' (2 branches) at 0x7f9a7dfac6a0>)]"
      ]
     },
     "execution_count": 9,
     "metadata": {},
     "output_type": "execute_result"
    }
   ],
   "source": [
    "file.items()"
   ]
  },
  {
   "cell_type": "code",
   "execution_count": 11,
   "metadata": {},
   "outputs": [
    {
     "data": {
      "text/plain": [
       "[('recTree;29', <TTree 'recTree' (1545 branches) at 0x7f9a805162b0>),\n",
       " ('recTree;28', <TTree 'recTree' (1545 branches) at 0x7f9a8040a1f0>),\n",
       " ('TotalPOT;1', <TH1F (version 3) at 0x7f9a80516c10>),\n",
       " ('TotalEvents;1', <TH1F (version 3) at 0x7f9ab81f76a0>),\n",
       " ('metadata;1', <ReadOnlyDirectory '/metadata' at 0x7f9a8040a880>),\n",
       " ('metadata/metatree;1', <TTree 'metatree' (2 branches) at 0x7f9a7dfac6a0>)]"
      ]
     },
     "execution_count": 11,
     "metadata": {},
     "output_type": "execute_result"
    }
   ],
   "source": [
    "TotalEvents= file['TotalEvents']\n",
    "TotalPOT= file['TotalPOT']\n",
    "file.items()"
   ]
  },
  {
   "cell_type": "code",
   "execution_count": 24,
   "metadata": {},
   "outputs": [
    {
     "data": {
      "text/plain": [
       "[]"
      ]
     },
     "execution_count": 24,
     "metadata": {},
     "output_type": "execute_result"
    }
   ],
   "source": [
    "file['recTree'].keys(filter_name='truth')"
   ]
  },
  {
   "cell_type": "code",
   "execution_count": 15,
   "metadata": {},
   "outputs": [
    {
     "data": {
      "text/plain": [
       "Text(0.5, 1.0, 'track lengh')"
      ]
     },
     "execution_count": 15,
     "metadata": {},
     "output_type": "execute_result"
    },
    {
     "data": {
      "image/png": "[encoded data removed]",
      "text/plain": [
       "<Figure size 640x480 with 1 Axes>"
      ]
     },
     "metadata": {},
     "output_type": "display_data"
    }
   ],
   "source": [
    "a= file['recTree']['rec.crt_tracks..length'].array()\n",
    "plt.hist(a[a<200], 70)\n",
    "plt.title('track lengh')\n"
   ]
  },
  {
   "cell_type": "code",
   "execution_count": 29,
   "metadata": {},
   "outputs": [
    {
     "data": {
      "text/plain": [
       "['rec.mc.nu.prim.cont_tpc',\n",
       " 'rec.mc.nu.prim.crosses_tpc',\n",
       " 'rec.reco.shw.truth.p.cont_tpc',\n",
       " 'rec.reco.shw.truth.p.crosses_tpc',\n",
       " 'rec.reco.stub.truth.p.cont_tpc',\n",
       " 'rec.reco.stub.truth.p.crosses_tpc',\n",
       " 'rec.reco.trk.truth.p.cont_tpc',\n",
       " 'rec.reco.trk.truth.p.crosses_tpc',\n",
       " 'rec.slc.reco.shw.truth.p.cont_tpc',\n",
       " 'rec.slc.reco.shw.truth.p.crosses_tpc',\n",
       " 'rec.slc.reco.stub.truth.p.cont_tpc',\n",
       " 'rec.slc.reco.stub.truth.p.crosses_tpc',\n",
       " 'rec.slc.reco.trk.truth.p.cont_tpc',\n",
       " 'rec.slc.reco.trk.truth.p.crosses_tpc',\n",
       " 'rec.slc.truth.prim.cont_tpc',\n",
       " 'rec.slc.truth.prim.crosses_tpc',\n",
       " 'rec.true_particles.cont_tpc',\n",
       " 'rec.true_particles.crosses_tpc']"
      ]
     },
     "execution_count": 29,
     "metadata": {},
     "output_type": "execute_result"
    }
   ],
   "source": [
    "file['recTree'].keys(filter_name='*tpc')\n"
   ]
  },
  {
   "cell_type": "code",
   "execution_count": 26,
   "metadata": {},
   "outputs": [
    {
     "data": {
      "text/html": [
       "<pre>[[nan],\n",
       " [0.288, 0.213, 0.0151, 0.0627, 0.735, ..., 0.719, nan, nan, 0.0299, 1.71],\n",
       " [0.0048, nan, nan, 0.533, 0.552, nan, 0.986, nan],\n",
       " [0.466, 0.203, 1.11, 0.0235, 0.612, 0.0394, 0.101, 0.153, 0.0232],\n",
       " [nan, nan, nan, nan, nan, 0.491],\n",
       " [0.0111, nan, 0.00658, nan, 0.739, 0.349],\n",
       " [0.831, nan, 0.194, 0.622, 0.0162, 0.019, nan, 0.00712, 0.442],\n",
       " [0.122, nan, nan, nan, nan],\n",
       " [nan, 0.809, nan, nan, nan, nan, nan],\n",
       " [0.024, 0.442, 0.0561, 0.00416, nan, ..., 0.0888, 0.269, 0.246, 0.0563],\n",
       " ...,\n",
       " [nan, nan, nan],\n",
       " [nan, 0.33, nan, 0.0108, nan],\n",
       " [nan, 0.417, 0.385, 0.381, 1.77, nan, 0.118, 0.914],\n",
       " [0.942, nan, 1.01, 0.717, 0.676, ..., nan, 0.00182, 0.675, 1.74, 0.0138],\n",
       " [0.0339, 0.0237, 1.28, 0.5, 0.0147, nan, 0.617, 0.671, 0.0624],\n",
       " [1.5, 0.964, 1.08, 1.13, nan],\n",
       " [0.0442, 0.0704, 0.419, 0.184, 0.88, nan],\n",
       " [0.469, nan],\n",
       " [nan, nan, 0.0242, nan, nan, nan, 0.741]]\n",
       "---------------------------------------------------------------------------\n",
       "type: 4816 * var * float32</pre>"
      ],
      "text/plain": [
       "<Array [[nan], ..., [nan, nan, ..., nan, 0.741]] type='4816 * var * float32'>"
      ]
     },
     "execution_count": 26,
     "metadata": {},
     "output_type": "execute_result"
    }
   ],
   "source": [
    "file['recTree']['rec.reco.trk.crttrack.angle'].array()"
   ]
  },
  {
   "cell_type": "code",
   "execution_count": 53,
   "metadata": {},
   "outputs": [
    {
     "data": {
      "text/plain": [
       "Text(0.5, 1.0, 'track angle')"
      ]
     },
     "execution_count": 53,
     "metadata": {},
     "output_type": "execute_result"
    },
    {
     "data": {
      "image/png": "[encoded data removed]",
      "text/plain": [
       "<Figure size 640x480 with 1 Axes>"
      ]
     },
     "metadata": {},
     "output_type": "display_data"
    }
   ],
   "source": [
    "a= ak.flatten(file['recTree'].arrays(['rec.reco.trk.crttrack.angle'])['rec.reco.trk.crttrack.angle'])\n",
    "plt.hist(a, 70)\n",
    "plt.title('track angle')"
   ]
  },
  {
   "cell_type": "code",
   "execution_count": 60,
   "metadata": {},
   "outputs": [
    {
     "data": {
      "text/plain": [
       "(array([2443., 2710., 2804., 3016., 2399., 2598., 2600., 2538., 2593.,\n",
       "        2741., 2325., 2319., 2357., 2426., 2681., 2682., 2558., 2431.,\n",
       "        2945., 2894., 2650., 2461., 2674., 2719., 2493., 2485., 2411.,\n",
       "        2688., 2551., 2579., 2666., 2467., 3056., 2906., 3078., 2440.,\n",
       "        3195., 5684., 2555., 2810., 2355., 2554., 2695., 2767., 2638.,\n",
       "        2540., 3790., 2636., 3361., 2599., 3017., 2574., 2701., 2393.,\n",
       "        3317., 2715., 2402., 2780., 2772., 2253., 2337., 2808., 2693.,\n",
       "        2611., 2394., 2867., 2899., 3108., 2634., 2670.]),\n",
       " array([-1699.934   , -1654.2195  , -1608.5051  , -1562.7906  ,\n",
       "        -1517.0763  , -1471.3618  , -1425.6473  , -1379.933   ,\n",
       "        -1334.2185  , -1288.5042  , -1242.7897  , -1197.0752  ,\n",
       "        -1151.3608  , -1105.6464  , -1059.932   , -1014.2175  ,\n",
       "         -968.5031  ,  -922.7887  ,  -877.0742  ,  -831.3598  ,\n",
       "         -785.6454  ,  -739.93097 ,  -694.21655 ,  -648.5021  ,\n",
       "         -602.78766 ,  -557.07324 ,  -511.35883 ,  -465.64438 ,\n",
       "         -419.92996 ,  -374.2155  ,  -328.5011  ,  -282.78668 ,\n",
       "         -237.07224 ,  -191.35782 ,  -145.64339 ,   -99.928955,\n",
       "          -54.214527,    -8.500097,    37.214333,    82.92876 ,\n",
       "          128.64319 ,   174.35762 ,   220.07205 ,   265.78647 ,\n",
       "          311.50092 ,   357.21533 ,   402.92975 ,   448.6442  ,\n",
       "          494.3586  ,   540.07306 ,   585.7875  ,   631.5019  ,\n",
       "          677.2163  ,   722.9308  ,   768.6452  ,   814.3596  ,\n",
       "          860.07404 ,   905.78845 ,   951.5029  ,   997.21735 ,\n",
       "         1042.9318  ,  1088.6462  ,  1134.3606  ,  1180.0751  ,\n",
       "         1225.7894  ,  1271.5039  ,  1317.2184  ,  1362.9327  ,\n",
       "         1408.6472  ,  1454.3616  ,  1500.076   ], dtype=float32),\n",
       " <BarContainer object of 70 artists>)"
      ]
     },
     "execution_count": 60,
     "metadata": {},
     "output_type": "execute_result"
    },
    {
     "data": {
      "image/png": "[encoded data removed]",
      "text/plain": [
       "<Figure size 640x480 with 1 Axes>"
      ]
     },
     "metadata": {},
     "output_type": "display_data"
    }
   ],
   "source": [
    "a= ak.flatten(file['recTree']['rec.crt_tracks.time'].arrays()['rec.crt_tracks.time'])\n",
    "plt.hist(a, 70)\n"
   ]
  },
  {
   "cell_type": "code",
   "execution_count": null,
   "metadata": {},
   "outputs": [],
   "source": []
  }
 ],
 "metadata": {
  "kernelspec": {
   "display_name": "base",
   "language": "python",
   "name": "python3"
  },
  "language_info": {
   "codemirror_mode": {
    "name": "ipython",
    "version": 3
   },
   "file_extension": ".py",
   "mimetype": "text/x-python",
   "name": "python",
   "nbconvert_exporter": "python",
   "pygments_lexer": "ipython3",
   "version": "3.9.13"
  },
  "orig_nbformat": 4,
  "vscode": {
   "interpreter": {
    "hash": "40d3a090f54c6569ab1632332b64b2c03c39dcf918b08424e98f38b5ae0af88f"
   }
  }
 },
 "nbformat": 4,
 "nbformat_minor": 2
}
