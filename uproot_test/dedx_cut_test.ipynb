{
 "cells": [
  {
   "cell_type": "code",
   "execution_count": 38,
   "metadata": {},
   "outputs": [],
   "source": [
    "import numpy as np\n",
    "import awkward as ak\n",
    "import uproot\n",
    "import matplotlib.pyplot as plt\n",
    "from matplotlib import cm"
   ]
  },
  {
   "cell_type": "code",
   "execution_count": 39,
   "metadata": {},
   "outputs": [],
   "source": [
    "root_file_dir= '~/Desktop/ROOT_files/'\n",
    "file1= uproot.open(root_file_dir + 'flat_caf_0-833995dc-14a2-47e7-9a95-91e25102b7ef.root:recTree;29')\n",
    "file2= uproot.open(root_file_dir + 'flat_caf_1-1637ea75-449f-467f-abd7-9e2f4f9710a7.root:recTree;31')\n",
    "file3= uproot.open(root_file_dir + 'flat_caf_2-16432aaf-a139-4cb0-8c09-26f5af8c457f.root:recTree;31')\n",
    "file4= uproot.open(root_file_dir + 'flat_caf_3-1ffa5d5d-a703-4c89-be04-dd5e6d458981.root:recTree;31')\n",
    "file5= uproot.open(root_file_dir + 'flat_caf_4-d0f08994-a5a3-4420-8600-616832f5adbb.root:recTree;31')"
   ]
  },
  {
   "cell_type": "code",
   "execution_count": 52,
   "metadata": {},
   "outputs": [
    {
     "ename": "SyntaxError",
     "evalue": "invalid syntax (2933951766.py, line 18)",
     "output_type": "error",
     "traceback": [
      "\u001b[0;36m  File \u001b[0;32m\"/tmp/ipykernel_18485/2933951766.py\"\u001b[0;36m, line \u001b[0;32m18\u001b[0m\n\u001b[0;31m    cut_full= cut_xf0 & cut_xf1 & cut_xf2 & cut_xf3 & cut_yf & cut_zf0 & cut_zf1 & cut_x0 & cut_y0 & cut_z00 & cut_z01 &\u001b[0m\n\u001b[0m                                                                                                                         ^\u001b[0m\n\u001b[0;31mSyntaxError\u001b[0m\u001b[0;31m:\u001b[0m invalid syntax\n"
     ]
    }
   ],
   "source": [
    "def get_cut(start, end):\n",
    "    cut_xf0= (end['xf'])>-250\n",
    "    cut_xf1= (end['xf'])<250\n",
    "    cut_xf2= (end['xf'])>50\n",
    "    cut_xf3= (end['xf'])<-50     \n",
    "    cut_yf= (np.absolute(end['yf'])<250)\n",
    "    cut_zf0= (end['zf'])>0\n",
    "    cut_zf1= (end['zf'])<500\n",
    "\n",
    "    cut_x00= (start['x0'])>-250\n",
    "    cut_x01= (start['x0'])<250\n",
    "    cut_x02= (start['x0'])>50\n",
    "    cut_x03= (start['x0'])<-50  \n",
    "    cut_y0= (np.absolute(start['y0'])<250)\n",
    "    cut_z00= (start['z0'])>0\n",
    "    cut_z01= (start['z0'])<500\n",
    "\n",
    "    cut_full= cut_xf0 & cut_xf1 & cut_xf2 & cut_xf3 & cut_yf & cut_zf0 & cut_zf1 & cut_x0 & cut_y0 & cut_z00 & cut_z01 & \n",
    "    cut= np.full(ak.num(cut_full, axis=0), True)\n",
    "\n",
    "    for i in range(ak.num(cut_full, axis=0)):\n",
    "        for j in range(ak.num(cut_full)[i]):\n",
    "            if cut_full[i][j]== False:\n",
    "                cut[i]= False\n",
    "\n",
    "    return cut"
   ]
  },
  {
   "cell_type": "code",
   "execution_count": 53,
   "metadata": {},
   "outputs": [],
   "source": [
    "start1= file1.arrays(['x0','y0','z0'], aliases={'x0':'rec.reco.trk.start.x', \n",
    "                                     'y0':'rec.reco.trk.start.y',\n",
    "                                     'z0':'rec.reco.trk.start.z'})\n",
    "end1= file1.arrays(['xf','yf','zf'], aliases={'xf':'rec.reco.trk.end.x', \n",
    "                                    'yf':'rec.reco.trk.end.y',\n",
    "                                     'zf':'rec.reco.trk.end.z'})\n",
    "rr_1= file1['rec.reco.trk.calo.2.points.rr'].array()\n",
    "dedx_1= file1['rec.reco.trk.calo.2.points.dedx'].array()\n",
    "#================================================================================\n",
    "start2= file2.arrays(['x0','y0','z0'], aliases={'x0':'rec.reco.trk.start.x', \n",
    "                                     'y0':'rec.reco.trk.start.y',\n",
    "                                     'z0':'rec.reco.trk.start.z'})\n",
    "end2= file2.arrays(['xf','yf','zf'], aliases={'xf':'rec.reco.trk.end.x', \n",
    "                                    'yf':'rec.reco.trk.end.y',\n",
    "                                     'zf':'rec.reco.trk.end.z'})\n",
    "rr_2= file2['rec.reco.trk.calo.2.points.rr'].array()\n",
    "dedx_2= file2['rec.reco.trk.calo.2.points.dedx'].array()\n",
    "#================================================================================\n",
    "start3= file3.arrays(['x0','y0','z0'], aliases={'x0':'rec.reco.trk.start.x', \n",
    "                                     'y0':'rec.reco.trk.start.y',\n",
    "                                     'z0':'rec.reco.trk.start.z'})\n",
    "end3= file3.arrays(['xf','yf','zf'], aliases={'xf':'rec.reco.trk.end.x', \n",
    "                                    'yf':'rec.reco.trk.end.y',\n",
    "                                     'zf':'rec.reco.trk.end.z'})   \n",
    "rr_3= file3['rec.reco.trk.calo.2.points.rr'].array()\n",
    "dedx_3= file3['rec.reco.trk.calo.2.points.dedx'].array()\n",
    "#================================================================================\n",
    "start4= file4.arrays(['x0','y0','z0'], aliases={'x0':'rec.reco.trk.start.x', \n",
    "                                     'y0':'rec.reco.trk.start.y',\n",
    "                                     'z0':'rec.reco.trk.start.z'})\n",
    "end4= file4.arrays(['xf','yf','zf'], aliases={'xf':'rec.reco.trk.end.x', \n",
    "                                    'yf':'rec.reco.trk.end.y',\n",
    "                                     'zf':'rec.reco.trk.end.z'})  \n",
    "rr_4= file4['rec.reco.trk.calo.2.points.rr'].array()\n",
    "dedx_4= file4['rec.reco.trk.calo.2.points.dedx'].array()\n",
    "#================================================================================\n",
    "start5= file5.arrays(['x0','y0','z0'], aliases={'x0':'rec.reco.trk.start.x', \n",
    "                                     'y0':'rec.reco.trk.start.y',\n",
    "                                     'z0':'rec.reco.trk.start.z'})\n",
    "end5= file5.arrays(['xf','yf','zf'], aliases={'xf':'rec.reco.trk.end.x', \n",
    "                                    'yf':'rec.reco.trk.end.y',\n",
    "                                     'zf':'rec.reco.trk.end.z'}) \n",
    "rr_5= file5['rec.reco.trk.calo.2.points.rr'].array()\n",
    "dedx_5= file5['rec.reco.trk.calo.2.points.dedx'].array()"
   ]
  },
  {
   "cell_type": "code",
   "execution_count": 54,
   "metadata": {},
   "outputs": [
    {
     "data": {
      "text/plain": [
       "(array([ 979.,  178.,  212.,  196.,  199.,  211.,  454.,  247.,  277.,\n",
       "         264.,  302.,  294.,  254.,  297.,  339.,  291.,  299.,  308.,\n",
       "         301.,  334.,  316.,  294.,  325.,  342.,  331.,  352.,  339.,\n",
       "         339.,  362.,  347.,  347.,  377.,  384.,  396.,  419.,  361.,\n",
       "         391.,  400.,  435.,  397.,  367.,  400., 2034.,  890.,  618.,\n",
       "         707.,  704.,  699.,  708.,  641.,  635.,  736.,  671.,  636.,\n",
       "         703.,  636.,  957., 1953.,  404.,  441.,  429.,  432.,  385.,\n",
       "         430.,  366.,  377.,  412.,  375.,  382.,  377.,  324.,  383.,\n",
       "         357.,  357.,  340.,  349.,  347.,  346.,  356.,  305.,  346.,\n",
       "         266.,  345.,  306.,  342.,  291.,  299.,  289.,  288.,  297.,\n",
       "         251.,  271.,  289.,  472.,  224.,  231.,  221.,  189.,  162.,\n",
       "        1009.]),\n",
       " array([-2.33277878e+02, -2.28611923e+02, -2.23945969e+02, -2.19280014e+02,\n",
       "        -2.14614075e+02, -2.09948120e+02, -2.05282166e+02, -2.00616211e+02,\n",
       "        -1.95950256e+02, -1.91284302e+02, -1.86618347e+02, -1.81952408e+02,\n",
       "        -1.77286453e+02, -1.72620499e+02, -1.67954544e+02, -1.63288589e+02,\n",
       "        -1.58622635e+02, -1.53956696e+02, -1.49290741e+02, -1.44624786e+02,\n",
       "        -1.39958832e+02, -1.35292877e+02, -1.30626923e+02, -1.25960976e+02,\n",
       "        -1.21295021e+02, -1.16629074e+02, -1.11963120e+02, -1.07297165e+02,\n",
       "        -1.02631210e+02, -9.79652634e+01, -9.32993088e+01, -8.86333542e+01,\n",
       "        -8.39674072e+01, -7.93014526e+01, -7.46354980e+01, -6.99695435e+01,\n",
       "        -6.53035965e+01, -6.06376419e+01, -5.59716911e+01, -5.13057365e+01,\n",
       "        -4.66397858e+01, -4.19738350e+01, -3.73078804e+01, -3.26419296e+01,\n",
       "        -2.79759769e+01, -2.33100243e+01, -1.86440716e+01, -1.39781199e+01,\n",
       "        -9.31216717e+00, -4.64621496e+00,  1.97372437e-02,  4.68568945e+00,\n",
       "         9.35164165e+00,  1.40175943e+01,  1.86835461e+01,  2.33494987e+01,\n",
       "         2.80154514e+01,  3.26814041e+01,  3.73473549e+01,  4.20133095e+01,\n",
       "         4.66792603e+01,  5.13452110e+01,  5.60111656e+01,  6.06771164e+01,\n",
       "         6.53430710e+01,  7.00090179e+01,  7.46749725e+01,  7.93409271e+01,\n",
       "         8.40068817e+01,  8.86728287e+01,  9.33387833e+01,  9.80047379e+01,\n",
       "         1.02670685e+02,  1.07336639e+02,  1.12002594e+02,  1.16668549e+02,\n",
       "         1.21334496e+02,  1.26000450e+02,  1.30666397e+02,  1.35332352e+02,\n",
       "         1.39998306e+02,  1.44664261e+02,  1.49330215e+02,  1.53996170e+02,\n",
       "         1.58662109e+02,  1.63328064e+02,  1.67994019e+02,  1.72659973e+02,\n",
       "         1.77325928e+02,  1.81991882e+02,  1.86657822e+02,  1.91323776e+02,\n",
       "         1.95989731e+02,  2.00655685e+02,  2.05321640e+02,  2.09987595e+02,\n",
       "         2.14653549e+02,  2.19319489e+02,  2.23985443e+02,  2.28651398e+02,\n",
       "         2.33317352e+02], dtype=float32),\n",
       " <BarContainer object of 100 artists>)"
      ]
     },
     "execution_count": 54,
     "metadata": {},
     "output_type": "execute_result"
    },
    {
     "data": {
      "image/png": "[encoded data removed]",
      "text/plain": [
       "<Figure size 640x480 with 1 Axes>"
      ]
     },
     "metadata": {},
     "output_type": "display_data"
    }
   ],
   "source": [
    "plt.hist(ak.flatten(file1['rec.reco.trk.start.x'].array()).to_numpy(), bins=100)"
   ]
  },
  {
   "cell_type": "code",
   "execution_count": 55,
   "metadata": {},
   "outputs": [],
   "source": [
    "cut_1= get_cut(start1, end1)\n",
    "cut_2= get_cut(start2, end2)\n",
    "cut_3= get_cut(start3, end3)\n",
    "cut_4= get_cut(start4, end4)\n",
    "cut_5= get_cut(start5, end5)"
   ]
  },
  {
   "cell_type": "code",
   "execution_count": 56,
   "metadata": {},
   "outputs": [],
   "source": [
    "rr= ak.flatten(ak.concatenate([rr_1[cut_1], rr_2[cut_2], rr_3[cut_3], rr_4[cut_4], rr_5[cut_5]], axis=0)).to_numpy()\n",
    "dedx= ak.flatten(ak.concatenate([dedx_1[cut_1], dedx_2[cut_2], dedx_3[cut_3], dedx_4[cut_4], dedx_5[cut_5]], axis=0)).to_numpy()\n",
    "\n",
    "remove= np.where((dedx>50)|(rr>25))\n",
    "rr= np.delete(rr, remove)\n",
    "dedx= np.delete(dedx, remove)"
   ]
  },
  {
   "cell_type": "code",
   "execution_count": 57,
   "metadata": {},
   "outputs": [
    {
     "data": {
      "text/plain": [
       "(array([[0., 0., 0., ..., 0., 0., 0.],\n",
       "        [0., 0., 0., ..., 0., 0., 0.],\n",
       "        [0., 0., 0., ..., 0., 0., 0.],\n",
       "        ...,\n",
       "        [0., 0., 0., ..., 0., 0., 0.],\n",
       "        [0., 0., 0., ..., 0., 0., 0.],\n",
       "        [0., 0., 0., ..., 0., 0., 0.]]),\n",
       " array([0.  , 0.01, 0.02, 0.03, 0.04, 0.05, 0.06, 0.07, 0.08, 0.09, 0.1 ,\n",
       "        0.11, 0.12, 0.13, 0.14, 0.15, 0.16, 0.17, 0.18, 0.19, 0.2 , 0.21,\n",
       "        0.22, 0.23, 0.24, 0.25, 0.26, 0.27, 0.28, 0.29, 0.3 , 0.31, 0.32,\n",
       "        0.33, 0.34, 0.35, 0.36, 0.37, 0.38, 0.39, 0.4 , 0.41, 0.42, 0.43,\n",
       "        0.44, 0.45, 0.46, 0.47, 0.48, 0.49, 0.5 , 0.51, 0.52, 0.53, 0.54,\n",
       "        0.55, 0.56, 0.57, 0.58, 0.59, 0.6 , 0.61, 0.62, 0.63, 0.64, 0.65,\n",
       "        0.66, 0.67, 0.68, 0.69, 0.7 , 0.71, 0.72, 0.73, 0.74, 0.75, 0.76,\n",
       "        0.77, 0.78, 0.79, 0.8 , 0.81, 0.82, 0.83, 0.84, 0.85, 0.86, 0.87,\n",
       "        0.88, 0.89, 0.9 , 0.91, 0.92, 0.93, 0.94, 0.95, 0.96, 0.97, 0.98,\n",
       "        0.99, 1.  ]),\n",
       " array([0.  , 0.01, 0.02, 0.03, 0.04, 0.05, 0.06, 0.07, 0.08, 0.09, 0.1 ,\n",
       "        0.11, 0.12, 0.13, 0.14, 0.15, 0.16, 0.17, 0.18, 0.19, 0.2 , 0.21,\n",
       "        0.22, 0.23, 0.24, 0.25, 0.26, 0.27, 0.28, 0.29, 0.3 , 0.31, 0.32,\n",
       "        0.33, 0.34, 0.35, 0.36, 0.37, 0.38, 0.39, 0.4 , 0.41, 0.42, 0.43,\n",
       "        0.44, 0.45, 0.46, 0.47, 0.48, 0.49, 0.5 , 0.51, 0.52, 0.53, 0.54,\n",
       "        0.55, 0.56, 0.57, 0.58, 0.59, 0.6 , 0.61, 0.62, 0.63, 0.64, 0.65,\n",
       "        0.66, 0.67, 0.68, 0.69, 0.7 , 0.71, 0.72, 0.73, 0.74, 0.75, 0.76,\n",
       "        0.77, 0.78, 0.79, 0.8 , 0.81, 0.82, 0.83, 0.84, 0.85, 0.86, 0.87,\n",
       "        0.88, 0.89, 0.9 , 0.91, 0.92, 0.93, 0.94, 0.95, 0.96, 0.97, 0.98,\n",
       "        0.99, 1.  ]),\n",
       " <matplotlib.collections.QuadMesh at 0x7f9a58021760>)"
      ]
     },
     "execution_count": 57,
     "metadata": {},
     "output_type": "execute_result"
    },
    {
     "data": {
      "image/png": "[encoded data removed]",
      "text/plain": [
       "<Figure size 640x480 with 1 Axes>"
      ]
     },
     "metadata": {},
     "output_type": "display_data"
    }
   ],
   "source": [
    "plt.hist2d(rr, dedx, bins=100)"
   ]
  },
  {
   "cell_type": "code",
   "execution_count": null,
   "metadata": {},
   "outputs": [],
   "source": []
  }
 ],
 "metadata": {
  "kernelspec": {
   "display_name": "base",
   "language": "python",
   "name": "python3"
  },
  "language_info": {
   "codemirror_mode": {
    "name": "ipython",
    "version": 3
   },
   "file_extension": ".py",
   "mimetype": "text/x-python",
   "name": "python",
   "nbconvert_exporter": "python",
   "pygments_lexer": "ipython3",
   "version": "3.9.13"
  },
  "orig_nbformat": 4
 },
 "nbformat": 4,
 "nbformat_minor": 2
}
