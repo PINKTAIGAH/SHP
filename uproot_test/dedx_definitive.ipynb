{
 "cells": [
  {
   "cell_type": "code",
   "execution_count": null,
   "metadata": {},
   "outputs": [
    {
     "ename": "",
     "evalue": "",
     "output_type": "error",
     "traceback": [
      "\u001b[1;31mFailed to start the Kernel. \n",
      "\u001b[1;31mFailed to start the Kernel 'base (Python 3.9.13)'. \n",
      "\u001b[1;31mView Jupyter <a href='command:jupyter.viewOutput'>log</a> for further details. Activating /bin/python3 to run Jupyter failed with function toString() { [native code] }"
     ]
    }
   ],
   "source": [
    "import numpy as np\n",
    "import awkward as ak\n",
    "import uproot\n",
    "import matplotlib.pyplot as plt|\n",
    "from matplotlib import cm"
   ]
  },
  {
   "cell_type": "code",
   "execution_count": null,
   "metadata": {},
   "outputs": [
    {
     "ename": "",
     "evalue": "",
     "output_type": "error",
     "traceback": [
      "\u001b[1;31mFailed to start the Kernel. \n",
      "\u001b[1;31mFailed to start the Kernel 'base (Python 3.9.13)'. \n",
      "\u001b[1;31mView Jupyter <a href='command:jupyter.viewOutput'>log</a> for further details. Activating /bin/python3 to run Jupyter failed with function toString() { [native code] }"
     ]
    }
   ],
   "source": [
    "root_file_dir= '~/Desktop/ROOT_files/'\n",
    "file= uproot.open(root_file_dir + 'flat_caf_0-833995dc-14a2-47e7-9a95-91e25102b7ef.root')\n",
    "file.keys()"
   ]
  },
  {
   "cell_type": "code",
   "execution_count": 2,
   "metadata": {},
   "outputs": [],
   "source": [
    "root_file_dir= '~/Desktop/ROOT_files/'\n",
    "file= uproot.open(root_file_dir + 'flat_caf_0-833995dc-14a2-47e7-9a95-91e25102b7ef.root:recTree;29')\n"
   ]
  },
  {
   "cell_type": "code",
   "execution_count": 3,
   "metadata": {},
   "outputs": [
    {
     "data": {
      "text/plain": [
       "['rec.reco.trk..length',\n",
       " 'rec.reco.trk.ID',\n",
       " 'rec.reco.trk.bestplane',\n",
       " 'rec.reco.trk.calo.0.charge',\n",
       " 'rec.reco.trk.calo.0.ke',\n",
       " 'rec.reco.trk.calo.0.nhit',\n",
       " 'rec.reco.trk.calo.0.points..length',\n",
       " 'rec.reco.trk.calo.0.points..totarraysize',\n",
       " 'rec.reco.trk.calo.0.points.dedx',\n",
       " 'rec.reco.trk.calo.0.points.dqdx',\n",
       " 'rec.reco.trk.calo.0.points.integral',\n",
       " 'rec.reco.trk.calo.0.points.pitch',\n",
       " 'rec.reco.trk.calo.0.points.rr',\n",
       " 'rec.reco.trk.calo.0.points.sumadc',\n",
       " 'rec.reco.trk.calo.0.points.t',\n",
       " 'rec.reco.trk.calo.0.points.wire',\n",
       " 'rec.reco.trk.calo.0.points..idx',\n",
       " 'rec.reco.trk.calo.1.charge',\n",
       " 'rec.reco.trk.calo.1.ke',\n",
       " 'rec.reco.trk.calo.1.nhit',\n",
       " 'rec.reco.trk.calo.1.points..length',\n",
       " 'rec.reco.trk.calo.1.points..totarraysize',\n",
       " 'rec.reco.trk.calo.1.points.dedx',\n",
       " 'rec.reco.trk.calo.1.points.dqdx',\n",
       " 'rec.reco.trk.calo.1.points.integral',\n",
       " 'rec.reco.trk.calo.1.points.pitch',\n",
       " 'rec.reco.trk.calo.1.points.rr',\n",
       " 'rec.reco.trk.calo.1.points.sumadc',\n",
       " 'rec.reco.trk.calo.1.points.t',\n",
       " 'rec.reco.trk.calo.1.points.wire',\n",
       " 'rec.reco.trk.calo.1.points..idx',\n",
       " 'rec.reco.trk.calo.2.charge',\n",
       " 'rec.reco.trk.calo.2.ke',\n",
       " 'rec.reco.trk.calo.2.nhit',\n",
       " 'rec.reco.trk.calo.2.points..length',\n",
       " 'rec.reco.trk.calo.2.points..totarraysize',\n",
       " 'rec.reco.trk.calo.2.points.dedx',\n",
       " 'rec.reco.trk.calo.2.points.dqdx',\n",
       " 'rec.reco.trk.calo.2.points.integral',\n",
       " 'rec.reco.trk.calo.2.points.pitch',\n",
       " 'rec.reco.trk.calo.2.points.rr',\n",
       " 'rec.reco.trk.calo.2.points.sumadc',\n",
       " 'rec.reco.trk.calo.2.points.t',\n",
       " 'rec.reco.trk.calo.2.points.wire',\n",
       " 'rec.reco.trk.calo.2.points..idx',\n",
       " 'rec.reco.trk.chi2pid.0.chi2_kaon',\n",
       " 'rec.reco.trk.chi2pid.0.chi2_muon',\n",
       " 'rec.reco.trk.chi2pid.0.chi2_pion',\n",
       " 'rec.reco.trk.chi2pid.0.chi2_proton',\n",
       " 'rec.reco.trk.chi2pid.0.pdg',\n",
       " 'rec.reco.trk.chi2pid.0.pid_ndof',\n",
       " 'rec.reco.trk.chi2pid.0.pida',\n",
       " 'rec.reco.trk.chi2pid.1.chi2_kaon',\n",
       " 'rec.reco.trk.chi2pid.1.chi2_muon',\n",
       " 'rec.reco.trk.chi2pid.1.chi2_pion',\n",
       " 'rec.reco.trk.chi2pid.1.chi2_proton',\n",
       " 'rec.reco.trk.chi2pid.1.pdg',\n",
       " 'rec.reco.trk.chi2pid.1.pid_ndof',\n",
       " 'rec.reco.trk.chi2pid.1.pida',\n",
       " 'rec.reco.trk.chi2pid.2.chi2_kaon',\n",
       " 'rec.reco.trk.chi2pid.2.chi2_muon',\n",
       " 'rec.reco.trk.chi2pid.2.chi2_pion',\n",
       " 'rec.reco.trk.chi2pid.2.chi2_proton',\n",
       " 'rec.reco.trk.chi2pid.2.pdg',\n",
       " 'rec.reco.trk.chi2pid.2.pid_ndof',\n",
       " 'rec.reco.trk.chi2pid.2.pida',\n",
       " 'rec.reco.trk.costh',\n",
       " 'rec.reco.trk.crthit.distance',\n",
       " 'rec.reco.trk.crthit.hit.pe',\n",
       " 'rec.reco.trk.crthit.hit.plane',\n",
       " 'rec.reco.trk.crthit.hit.position.x',\n",
       " 'rec.reco.trk.crthit.hit.position.y',\n",
       " 'rec.reco.trk.crthit.hit.position.z',\n",
       " 'rec.reco.trk.crthit.hit.position_err.x',\n",
       " 'rec.reco.trk.crthit.hit.position_err.y',\n",
       " 'rec.reco.trk.crthit.hit.position_err.z',\n",
       " 'rec.reco.trk.crthit.hit.t0',\n",
       " 'rec.reco.trk.crthit.hit.t1',\n",
       " 'rec.reco.trk.crthit.hit.time',\n",
       " 'rec.reco.trk.crttrack.angle',\n",
       " 'rec.reco.trk.crttrack.time',\n",
       " 'rec.reco.trk.dazzle.bestScore',\n",
       " 'rec.reco.trk.dazzle.muonScore',\n",
       " 'rec.reco.trk.dazzle.otherScore',\n",
       " 'rec.reco.trk.dazzle.pdg',\n",
       " 'rec.reco.trk.dazzle.pionScore',\n",
       " 'rec.reco.trk.dazzle.protonScore',\n",
       " 'rec.reco.trk.dir.x',\n",
       " 'rec.reco.trk.dir.y',\n",
       " 'rec.reco.trk.dir.z',\n",
       " 'rec.reco.trk.dir_end.x',\n",
       " 'rec.reco.trk.dir_end.y',\n",
       " 'rec.reco.trk.dir_end.z',\n",
       " 'rec.reco.trk.end.x',\n",
       " 'rec.reco.trk.end.y',\n",
       " 'rec.reco.trk.end.z',\n",
       " 'rec.reco.trk.len',\n",
       " 'rec.reco.trk.mcsP.bwdP_err_kaon',\n",
       " 'rec.reco.trk.mcsP.bwdP_err_muon',\n",
       " 'rec.reco.trk.mcsP.bwdP_err_pion',\n",
       " 'rec.reco.trk.mcsP.bwdP_err_proton',\n",
       " 'rec.reco.trk.mcsP.bwdP_kaon',\n",
       " 'rec.reco.trk.mcsP.bwdP_muon',\n",
       " 'rec.reco.trk.mcsP.bwdP_pion',\n",
       " 'rec.reco.trk.mcsP.bwdP_proton',\n",
       " 'rec.reco.trk.mcsP.fwdP_err_kaon',\n",
       " 'rec.reco.trk.mcsP.fwdP_err_muon',\n",
       " 'rec.reco.trk.mcsP.fwdP_err_pion',\n",
       " 'rec.reco.trk.mcsP.fwdP_err_proton',\n",
       " 'rec.reco.trk.mcsP.fwdP_kaon',\n",
       " 'rec.reco.trk.mcsP.fwdP_muon',\n",
       " 'rec.reco.trk.mcsP.fwdP_pion',\n",
       " 'rec.reco.trk.mcsP.fwdP_proton',\n",
       " 'rec.reco.trk.mcsP.is_bwd_kaon',\n",
       " 'rec.reco.trk.mcsP.is_bwd_muon',\n",
       " 'rec.reco.trk.mcsP.is_bwd_pion',\n",
       " 'rec.reco.trk.mcsP.is_bwd_proton',\n",
       " 'rec.reco.trk.npts',\n",
       " 'rec.reco.trk.pfp.daughters..length',\n",
       " 'rec.reco.trk.pfp.daughters..totarraysize',\n",
       " 'rec.reco.trk.pfp.daughters',\n",
       " 'rec.reco.trk.pfp.daughters..idx',\n",
       " 'rec.reco.trk.pfp.id',\n",
       " 'rec.reco.trk.pfp.ndaughters',\n",
       " 'rec.reco.trk.pfp.parent',\n",
       " 'rec.reco.trk.pfp.parent_is_primary',\n",
       " 'rec.reco.trk.pfp.slcID',\n",
       " 'rec.reco.trk.pfp.trackScore',\n",
       " 'rec.reco.trk.phi',\n",
       " 'rec.reco.trk.producer',\n",
       " 'rec.reco.trk.rangeP.p_muon',\n",
       " 'rec.reco.trk.rangeP.p_pion',\n",
       " 'rec.reco.trk.rangeP.p_proton',\n",
       " 'rec.reco.trk.scatterClosestApproach.max',\n",
       " 'rec.reco.trk.scatterClosestApproach.mean',\n",
       " 'rec.reco.trk.scatterClosestApproach.stdDev',\n",
       " 'rec.reco.trk.start.x',\n",
       " 'rec.reco.trk.start.y',\n",
       " 'rec.reco.trk.start.z',\n",
       " 'rec.reco.trk.stoppingChi2Fit.expChi2',\n",
       " 'rec.reco.trk.stoppingChi2Fit.pol0Chi2',\n",
       " 'rec.reco.trk.stoppingChi2Fit.pol0Fit',\n",
       " 'rec.reco.trk.truth.bestmatch.G4ID',\n",
       " 'rec.reco.trk.truth.bestmatch.energy',\n",
       " 'rec.reco.trk.truth.bestmatch.energy_completeness',\n",
       " 'rec.reco.trk.truth.bestmatch.energy_purity',\n",
       " 'rec.reco.trk.truth.bestmatch.hit_completeness',\n",
       " 'rec.reco.trk.truth.bestmatch.hit_purity',\n",
       " 'rec.reco.trk.truth.eff',\n",
       " 'rec.reco.trk.truth.eff_cryo',\n",
       " 'rec.reco.trk.truth.matches..length',\n",
       " 'rec.reco.trk.truth.matches..totarraysize',\n",
       " 'rec.reco.trk.truth.matches.G4ID',\n",
       " 'rec.reco.trk.truth.matches.energy',\n",
       " 'rec.reco.trk.truth.matches.energy_completeness',\n",
       " 'rec.reco.trk.truth.matches.energy_purity',\n",
       " 'rec.reco.trk.truth.matches.hit_completeness',\n",
       " 'rec.reco.trk.truth.matches.hit_purity',\n",
       " 'rec.reco.trk.truth.matches..idx',\n",
       " 'rec.reco.trk.truth.nmatches',\n",
       " 'rec.reco.trk.truth.p.G4ID',\n",
       " 'rec.reco.trk.truth.p.cont_tpc',\n",
       " 'rec.reco.trk.truth.p.contained',\n",
       " 'rec.reco.trk.truth.p.crosses_tpc',\n",
       " 'rec.reco.trk.truth.p.cryostat',\n",
       " 'rec.reco.trk.truth.p.daughters..length',\n",
       " 'rec.reco.trk.truth.p.daughters..totarraysize',\n",
       " 'rec.reco.trk.truth.p.daughters',\n",
       " 'rec.reco.trk.truth.p.daughters..idx',\n",
       " 'rec.reco.trk.truth.p.end.x',\n",
       " 'rec.reco.trk.truth.p.end.y',\n",
       " 'rec.reco.trk.truth.p.end.z',\n",
       " 'rec.reco.trk.truth.p.endE',\n",
       " 'rec.reco.trk.truth.p.endT',\n",
       " 'rec.reco.trk.truth.p.end_process',\n",
       " 'rec.reco.trk.truth.p.endp.x',\n",
       " 'rec.reco.trk.truth.p.endp.y',\n",
       " 'rec.reco.trk.truth.p.endp.z',\n",
       " 'rec.reco.trk.truth.p.gen.x',\n",
       " 'rec.reco.trk.truth.p.gen.y',\n",
       " 'rec.reco.trk.truth.p.gen.z',\n",
       " 'rec.reco.trk.truth.p.genE',\n",
       " 'rec.reco.trk.truth.p.genT',\n",
       " 'rec.reco.trk.truth.p.generator',\n",
       " 'rec.reco.trk.truth.p.genp.x',\n",
       " 'rec.reco.trk.truth.p.genp.y',\n",
       " 'rec.reco.trk.truth.p.genp.z',\n",
       " 'rec.reco.trk.truth.p.gstatus',\n",
       " 'rec.reco.trk.truth.p.interaction_id',\n",
       " 'rec.reco.trk.truth.p.length',\n",
       " 'rec.reco.trk.truth.p.parent',\n",
       " 'rec.reco.trk.truth.p.pdg',\n",
       " 'rec.reco.trk.truth.p.plane.0.0.nhit',\n",
       " 'rec.reco.trk.truth.p.plane.0.0.visE',\n",
       " 'rec.reco.trk.truth.p.plane.0.1.nhit',\n",
       " 'rec.reco.trk.truth.p.plane.0.1.visE',\n",
       " 'rec.reco.trk.truth.p.plane.0.2.nhit',\n",
       " 'rec.reco.trk.truth.p.plane.0.2.visE',\n",
       " 'rec.reco.trk.truth.p.plane.1.0.nhit',\n",
       " 'rec.reco.trk.truth.p.plane.1.0.visE',\n",
       " 'rec.reco.trk.truth.p.plane.1.1.nhit',\n",
       " 'rec.reco.trk.truth.p.plane.1.1.visE',\n",
       " 'rec.reco.trk.truth.p.plane.1.2.nhit',\n",
       " 'rec.reco.trk.truth.p.plane.1.2.visE',\n",
       " 'rec.reco.trk.truth.p.start.x',\n",
       " 'rec.reco.trk.truth.p.start.y',\n",
       " 'rec.reco.trk.truth.p.start.z',\n",
       " 'rec.reco.trk.truth.p.startE',\n",
       " 'rec.reco.trk.truth.p.startT',\n",
       " 'rec.reco.trk.truth.p.start_process',\n",
       " 'rec.reco.trk.truth.p.startp.x',\n",
       " 'rec.reco.trk.truth.p.startp.y',\n",
       " 'rec.reco.trk.truth.p.startp.z',\n",
       " 'rec.reco.trk.truth.p.wallin',\n",
       " 'rec.reco.trk.truth.p.wallout',\n",
       " 'rec.reco.trk.truth.pur',\n",
       " 'rec.reco.trk.truth.visEintrk']"
      ]
     },
     "execution_count": 3,
     "metadata": {},
     "output_type": "execute_result"
    }
   ],
   "source": [
    "file.keys(filter_name='*rec.reco.trk*')"
   ]
  },
  {
   "cell_type": "code",
   "execution_count": 4,
   "metadata": {},
   "outputs": [
    {
     "data": {
      "text/plain": [
       "array([1418, 1419, 1420, 1421, 1422, 1423, 1579, 1580, 1581, 1582, 1583,\n",
       "       1584, 1585, 1586, 1587, 1588, 1589, 1590, 1591, 1592, 1593, 1594,\n",
       "       1595, 1596, 1597, 1598, 1599, 1600, 1601, 1602, 1603, 1604, 1605,\n",
       "       1606, 1607, 1608, 1609, 1610, 1611, 1612, 1614, 1613], dtype=int16)"
      ]
     },
     "execution_count": 4,
     "metadata": {},
     "output_type": "execute_result"
    }
   ],
   "source": [
    "wire= file['rec.reco.trk.calo.2.points.wire'].array(library= 'np')\n",
    "idx= file['rec.reco.trk.calo.2.points..idx'].array(library= 'np')\n",
    "end_x= file['rec.reco.trk.end.x'].array(library='np')\n",
    "dedx_2= file['rec.reco.trk.calo.2.points.dedx'].array(library='np')\n",
    "rr_2= file['rec.reco.trk.calo.2.points.rr'].array(library='pd')\n",
    "bestplane= file['rec.reco.trk.bestplane'].array(library='ak')\n",
    "id= file['rec.reco.trk.ID'].array(library='np')\n",
    "(wire[60])\n",
    "#`idx[4813]"
   ]
  },
  {
   "cell_type": "code",
   "execution_count": 5,
   "metadata": {},
   "outputs": [
    {
     "name": "stdout",
     "output_type": "stream",
     "text": [
      "[-2147483648]\n"
     ]
    }
   ],
   "source": [
    "print(id[0])"
   ]
  },
  {
   "cell_type": "code",
   "execution_count": 24,
   "metadata": {},
   "outputs": [
    {
     "data": {
      "text/plain": [
       "array([array([-999], dtype=int32),\n",
       "       array([-999, -999, -999, -999, -999, -999, -999, -999, -999, -999, -999,\n",
       "              -999], dtype=int32)                                              ,\n",
       "       array([-999, -999, -999, -999, -999, -999, -999, -999], dtype=int32),\n",
       "       ..., array([-999, -999, -999, -999, -999, -999], dtype=int32),\n",
       "       array([-999, -999], dtype=int32),\n",
       "       array([-999, -999, -999, -999, -999, -999, -999], dtype=int32)],\n",
       "      dtype=object)"
      ]
     },
     "execution_count": 24,
     "metadata": {},
     "output_type": "execute_result"
    }
   ],
   "source": [
    "file['rec.reco.trk.chi2pid.2.pdg'].array(library='np')\n"
   ]
  },
  {
   "cell_type": "code",
   "execution_count": 8,
   "metadata": {},
   "outputs": [
    {
     "data": {
      "text/plain": [
       "121"
      ]
     },
     "execution_count": 8,
     "metadata": {},
     "output_type": "execute_result"
    }
   ],
   "source": [
    "dedx_2[1].size"
   ]
  },
  {
   "cell_type": "code",
   "execution_count": 19,
   "metadata": {},
   "outputs": [
    {
     "data": {
      "text/plain": [
       "<Array [53, 22, 175, 7, ... 107, 119, 73, 52] type='12 * int32'>"
      ]
     },
     "execution_count": 19,
     "metadata": {},
     "output_type": "execute_result"
    }
   ],
   "source": [
    "file['rec.reco.trk.calo.2.nhit'].array()[1]\n"
   ]
  },
  {
   "cell_type": "code",
   "execution_count": 18,
   "metadata": {},
   "outputs": [
    {
     "data": {
      "text/plain": [
       "<Array [13.4, 7.3, 9.63, ... 6.79, 7.91, 6.69] type='121 * float32'>"
      ]
     },
     "execution_count": 18,
     "metadata": {},
     "output_type": "execute_result"
    }
   ],
   "source": [
    "file['rec.reco.trk.calo.2.points.dedx'].array()[1]\n"
   ]
  },
  {
   "cell_type": "code",
   "execution_count": 255,
   "metadata": {},
   "outputs": [
    {
     "data": {
      "text/plain": [
       "(array([467., 587., 599., 438., 393., 363., 312., 297., 331., 287., 301.,\n",
       "        283., 255., 268., 288., 270., 273., 288., 302., 296., 284., 261.,\n",
       "        289., 270., 286., 297., 286., 281., 285., 295., 284., 301., 250.,\n",
       "        279., 258., 256., 294., 261., 299., 291., 262., 302., 308., 258.,\n",
       "        276., 253., 251., 310., 253., 265., 263., 273., 306., 251., 278.,\n",
       "        239., 246., 262., 267., 255., 262., 253., 250., 256., 268., 271.,\n",
       "        249., 240., 243., 285., 219., 255., 266., 239., 254., 257., 243.,\n",
       "        227., 261., 228., 226., 203., 226., 230., 209., 215., 238., 222.,\n",
       "        232., 190., 215., 205., 202., 209., 191., 188., 186., 185., 213.,\n",
       "        187., 198., 165., 158., 193., 165., 151., 189., 155., 176., 195.,\n",
       "        155., 180., 179., 167., 157., 146., 134., 152., 154., 148., 137.,\n",
       "        136., 142., 158., 136., 131., 139., 127., 122., 127., 130., 130.,\n",
       "        123., 136., 128., 114., 136., 119., 130., 118., 121., 135., 134.,\n",
       "        136., 108.,  91., 108., 110.,  68., 108., 109., 119.,  94., 100.,\n",
       "         86.,  89.,  95.,  83., 100.,  91.,  99.,  89.,  97., 100.,  81.,\n",
       "         93., 102.,  97.,  81., 101.,  96.,  85.,  77., 108., 132., 195.,\n",
       "        245., 262., 302., 265., 253., 234., 215., 201., 206., 174., 160.,\n",
       "        171., 170., 130., 149., 112., 139., 112., 106., 122.,  96., 108.,\n",
       "         89., 103.,  59.,  94.,  77.,  87.,  64.,  73.,  61.,  60.,  53.,\n",
       "         56.,  60.,  61.,  45.,  46.,  43.,  42.,  47.,  44.,  31.,  28.,\n",
       "         46.,  34.,  39.,  23.,  33.,  27.,  35.,  32.,  25.,  27.,  27.,\n",
       "         30.,  21.,  17.,  24.,  19.,  15.,  25.,  18.,  14.,  18.,  18.,\n",
       "         11.,  11.,  13.,  14.,   7.,  13.,   9.,  14.,  20.,   9.,  18.,\n",
       "         10.,   2.,   5.,   8.,  13.,   6.,   5.,  10.,   6.,   5.,   7.,\n",
       "          7.,   3.,   2.,   4.,   5.,   2.,   4.,   5.,   5.,   2.,   4.,\n",
       "          2.,   1.,   2.,   5.,   1.,   0.,   2.,   1.,   2.,   0.,   0.,\n",
       "          0.,   1.,   1.,   1.,   2.,   0.,   0.,   1.,   0.,   1.,   1.,\n",
       "          0.,   0.,   2.]),\n",
       " array([3.4039631e-01, 2.6593330e+00, 4.9782701e+00, 7.2972064e+00,\n",
       "        9.6161432e+00, 1.1935081e+01, 1.4254017e+01, 1.6572954e+01,\n",
       "        1.8891890e+01, 2.1210827e+01, 2.3529764e+01, 2.5848701e+01,\n",
       "        2.8167637e+01, 3.0486574e+01, 3.2805511e+01, 3.5124447e+01,\n",
       "        3.7443386e+01, 3.9762321e+01, 4.2081257e+01, 4.4400196e+01,\n",
       "        4.6719131e+01, 4.9038067e+01, 5.1357006e+01, 5.3675941e+01,\n",
       "        5.5994877e+01, 5.8313816e+01, 6.0632751e+01, 6.2951687e+01,\n",
       "        6.5270622e+01, 6.7589561e+01, 6.9908501e+01, 7.2227432e+01,\n",
       "        7.4546371e+01, 7.6865311e+01, 7.9184242e+01, 8.1503181e+01,\n",
       "        8.3822121e+01, 8.6141060e+01, 8.8459991e+01, 9.0778931e+01,\n",
       "        9.3097870e+01, 9.5416801e+01, 9.7735741e+01, 1.0005468e+02,\n",
       "        1.0237361e+02, 1.0469255e+02, 1.0701149e+02, 1.0933042e+02,\n",
       "        1.1164936e+02, 1.1396830e+02, 1.1628723e+02, 1.1860617e+02,\n",
       "        1.2092511e+02, 1.2324404e+02, 1.2556298e+02, 1.2788192e+02,\n",
       "        1.3020085e+02, 1.3251979e+02, 1.3483873e+02, 1.3715767e+02,\n",
       "        1.3947661e+02, 1.4179553e+02, 1.4411447e+02, 1.4643341e+02,\n",
       "        1.4875235e+02, 1.5107129e+02, 1.5339023e+02, 1.5570915e+02,\n",
       "        1.5802809e+02, 1.6034703e+02, 1.6266597e+02, 1.6498491e+02,\n",
       "        1.6730385e+02, 1.6962277e+02, 1.7194171e+02, 1.7426065e+02,\n",
       "        1.7657959e+02, 1.7889853e+02, 1.8121747e+02, 1.8353641e+02,\n",
       "        1.8585533e+02, 1.8817427e+02, 1.9049321e+02, 1.9281215e+02,\n",
       "        1.9513109e+02, 1.9745003e+02, 1.9976895e+02, 2.0208789e+02,\n",
       "        2.0440683e+02, 2.0672577e+02, 2.0904471e+02, 2.1136365e+02,\n",
       "        2.1368257e+02, 2.1600151e+02, 2.1832045e+02, 2.2063939e+02,\n",
       "        2.2295833e+02, 2.2527727e+02, 2.2759619e+02, 2.2991513e+02,\n",
       "        2.3223407e+02, 2.3455301e+02, 2.3687195e+02, 2.3919089e+02,\n",
       "        2.4150981e+02, 2.4382875e+02, 2.4614769e+02, 2.4846663e+02,\n",
       "        2.5078557e+02, 2.5310451e+02, 2.5542345e+02, 2.5774237e+02,\n",
       "        2.6006131e+02, 2.6238025e+02, 2.6469919e+02, 2.6701813e+02,\n",
       "        2.6933707e+02, 2.7165601e+02, 2.7397495e+02, 2.7629388e+02,\n",
       "        2.7861279e+02, 2.8093173e+02, 2.8325067e+02, 2.8556961e+02,\n",
       "        2.8788855e+02, 2.9020749e+02, 2.9252643e+02, 2.9484537e+02,\n",
       "        2.9716431e+02, 2.9948325e+02, 3.0180219e+02, 3.0412112e+02,\n",
       "        3.0644003e+02, 3.0875897e+02, 3.1107791e+02, 3.1339685e+02,\n",
       "        3.1571579e+02, 3.1803473e+02, 3.2035367e+02, 3.2267261e+02,\n",
       "        3.2499155e+02, 3.2731049e+02, 3.2962943e+02, 3.3194836e+02,\n",
       "        3.3426730e+02, 3.3658621e+02, 3.3890515e+02, 3.4122409e+02,\n",
       "        3.4354303e+02, 3.4586197e+02, 3.4818091e+02, 3.5049985e+02,\n",
       "        3.5281879e+02, 3.5513773e+02, 3.5745667e+02, 3.5977560e+02,\n",
       "        3.6209454e+02, 3.6441345e+02, 3.6673239e+02, 3.6905133e+02,\n",
       "        3.7137027e+02, 3.7368921e+02, 3.7600815e+02, 3.7832709e+02,\n",
       "        3.8064603e+02, 3.8296497e+02, 3.8528391e+02, 3.8760284e+02,\n",
       "        3.8992178e+02, 3.9224072e+02, 3.9455963e+02, 3.9687857e+02,\n",
       "        3.9919751e+02, 4.0151645e+02, 4.0383539e+02, 4.0615433e+02,\n",
       "        4.0847327e+02, 4.1079221e+02, 4.1311115e+02, 4.1543008e+02,\n",
       "        4.1774902e+02, 4.2006796e+02, 4.2238687e+02, 4.2470581e+02,\n",
       "        4.2702475e+02, 4.2934369e+02, 4.3166263e+02, 4.3398157e+02,\n",
       "        4.3630051e+02, 4.3861945e+02, 4.4093839e+02, 4.4325732e+02,\n",
       "        4.4557626e+02, 4.4789520e+02, 4.5021414e+02, 4.5253305e+02,\n",
       "        4.5485199e+02, 4.5717093e+02, 4.5948987e+02, 4.6180881e+02,\n",
       "        4.6412775e+02, 4.6644669e+02, 4.6876562e+02, 4.7108456e+02,\n",
       "        4.7340350e+02, 4.7572244e+02, 4.7804138e+02, 4.8036029e+02,\n",
       "        4.8267923e+02, 4.8499817e+02, 4.8731711e+02, 4.8963605e+02,\n",
       "        4.9195499e+02, 4.9427393e+02, 4.9659286e+02, 4.9891180e+02,\n",
       "        5.0123074e+02, 5.0354968e+02, 5.0586862e+02, 5.0818756e+02,\n",
       "        5.1050647e+02, 5.1282544e+02, 5.1514435e+02, 5.1746332e+02,\n",
       "        5.1978223e+02, 5.2210120e+02, 5.2442010e+02, 5.2673901e+02,\n",
       "        5.2905798e+02, 5.3137689e+02, 5.3369586e+02, 5.3601477e+02,\n",
       "        5.3833374e+02, 5.4065265e+02, 5.4297162e+02, 5.4529053e+02,\n",
       "        5.4760950e+02, 5.4992841e+02, 5.5224731e+02, 5.5456628e+02,\n",
       "        5.5688519e+02, 5.5920416e+02, 5.6152307e+02, 5.6384204e+02,\n",
       "        5.6616095e+02, 5.6847992e+02, 5.7079883e+02, 5.7311780e+02,\n",
       "        5.7543671e+02, 5.7775568e+02, 5.8007458e+02, 5.8239349e+02,\n",
       "        5.8471246e+02, 5.8703137e+02, 5.8935034e+02, 5.9166925e+02,\n",
       "        5.9398822e+02, 5.9630713e+02, 5.9862610e+02, 6.0094501e+02,\n",
       "        6.0326398e+02, 6.0558289e+02, 6.0790186e+02, 6.1022076e+02,\n",
       "        6.1253967e+02, 6.1485864e+02, 6.1717755e+02, 6.1949652e+02,\n",
       "        6.2181543e+02, 6.2413440e+02, 6.2645331e+02, 6.2877228e+02,\n",
       "        6.3109119e+02, 6.3341016e+02, 6.3572906e+02, 6.3804803e+02,\n",
       "        6.4036694e+02, 6.4268585e+02, 6.4500482e+02, 6.4732373e+02,\n",
       "        6.4964270e+02, 6.5196161e+02, 6.5428058e+02, 6.5659949e+02,\n",
       "        6.5891846e+02, 6.6123737e+02, 6.6355634e+02, 6.6587524e+02,\n",
       "        6.6819415e+02, 6.7051312e+02, 6.7283203e+02, 6.7515100e+02,\n",
       "        6.7746991e+02, 6.7978888e+02, 6.8210779e+02, 6.8442676e+02,\n",
       "        6.8674567e+02, 6.8906464e+02, 6.9138354e+02, 6.9370251e+02,\n",
       "        6.9602142e+02], dtype=float32),\n",
       " <BarContainer object of 300 artists>)"
      ]
     },
     "execution_count": 255,
     "metadata": {},
     "output_type": "execute_result"
    },
    {
     "data": {
      "image/png": "[encoded data removed]",
      "text/plain": [
       "<Figure size 640x480 with 1 Axes>"
      ]
     },
     "metadata": {},
     "output_type": "display_data"
    }
   ],
   "source": [
    "len= file['rec.reco.trk.len'].array()\n",
    "len= ak.flatten(len).to_numpy()\n",
    "mask= np.where((len>700)|(len<=0))\n",
    "len= np.delete(len, mask)\n",
    "plt.hist(len, bins= 300)\n"
   ]
  },
  {
   "cell_type": "code",
   "execution_count": null,
   "metadata": {},
   "outputs": [],
   "source": []
  }
 ],
 "metadata": {
  "kernelspec": {
   "display_name": "base",
   "language": "python",
   "name": "python3"
  },
  "language_info": {
   "codemirror_mode": {
    "name": "ipython",
    "version": 3
   },
   "file_extension": ".py",
   "mimetype": "text/x-python",
   "name": "python",
   "nbconvert_exporter": "python",
   "pygments_lexer": "ipython3",
   "version": "3.9.13"
  },
  "orig_nbformat": 4
 },
 "nbformat": 4,
 "nbformat_minor": 2
}
